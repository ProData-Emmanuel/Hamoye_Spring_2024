{
  "cells": [
    {
      "cell_type": "markdown",
      "metadata": {
        "id": "view-in-github",
        "colab_type": "text"
      },
      "source": [
        "<a href=\"https://colab.research.google.com/github/ProData-Emmanuel/Hamoye_Spring_2024/blob/main/Emma_Okeke_Stage_C_Project_Tag_Along_Code.ipynb\" target=\"_parent\"><img src=\"https://colab.research.google.com/assets/colab-badge.svg\" alt=\"Open In Colab\"/></a>"
      ]
    },
    {
      "cell_type": "code",
      "execution_count": null,
      "id": "353b1b0e",
      "metadata": {
        "id": "353b1b0e"
      },
      "outputs": [],
      "source": [
        "# import all necessary tools\n",
        "from bs4 import BeautifulSoup as bs\n",
        "import requests\n",
        "import time\n",
        "import pandas as pd\n",
        "import seaborn as sns\n",
        "import matplotlib.pyplot as plt\n",
        "import logging"
      ]
    },
    {
      "cell_type": "code",
      "execution_count": null,
      "id": "c6b7874f",
      "metadata": {
        "id": "c6b7874f"
      },
      "outputs": [],
      "source": [
        "url = 'https://www.jobberman.com/jobs?experience=no-experience'\n",
        "\n",
        "\n",
        "max_retries = 2\n",
        "retry_delay = 5\n",
        "\n",
        "# configure logging to write errors to a file\n",
        "logging.basicConfig(filename='errors.record', level=logging.ERROR)\n",
        "\n",
        "# try request multiple times in case of failure\n",
        "for a in range(max_retries):\n",
        "    try:\n",
        "        page = requests.get(url, timeout=10)\n",
        "        page.raise_for_status()\n",
        "    except requests.exceptions.RequestException as e:\n",
        "        logging.error(f'Retrying request {a+1}/{max_retries} after error: {e}')\n",
        "        time.sleep(retry_delay)\n",
        "    else:\n",
        "        soup = bs(page.text, 'html.parser')\n",
        "        table = soup.find(class_=\"w-full md:grow md:mx-6\")\n",
        "        date = table.find_all(class_ = \"ml-auto text-sm font-normal text-gray-700 text-loading-animate\")\n",
        "        pos = table.find_all(class_ = 'text-lg font-medium break-words text-link-500')\n",
        "        job = table.find_all(class_ = \"text-sm text-gray-500 text-loading-animate inline-block\")\n",
        "        sal = table.find_all(class_ = \"mr-1\")\n",
        "        break\n",
        "\n",
        "# if loop finished without a successful response, raise an exception\n",
        "else:\n",
        "    logging.error(f'Error: Maximum number of retries ({max_retries}) exceeded')\n",
        "    raise requests.exceptions.RequestException(f'Maximum number of retries exceeded for url: {url}')\n"
      ]
    },
    {
      "cell_type": "code",
      "execution_count": null,
      "id": "dd4092c1",
      "metadata": {
        "id": "dd4092c1"
      },
      "outputs": [],
      "source": [
        "Date_posted = []\n",
        "Position = []\n",
        "Job_function =[]\n",
        "Salary_range = []\n",
        "\n",
        "for d in date:\n",
        "    job_dat = d.text.strip()\n",
        "    Date_posted.append(job_dat)\n",
        "\n",
        "for p in pos:\n",
        "    job_pos = p.text.strip()\n",
        "    Position.append(job_pos)\n",
        "\n",
        "for j in job:\n",
        "    job_fun= j.text.strip()\n",
        "    Job_function.append(job_fun)\n",
        "\n",
        "for s in sal:\n",
        "    job_sal = s.text.strip()\n",
        "    Salary_range.append(job_sal)"
      ]
    },
    {
      "cell_type": "code",
      "execution_count": null,
      "id": "cb4f1fa9",
      "metadata": {
        "id": "cb4f1fa9",
        "outputId": "e5c18a19-6901-4a77-a579-f47e75b4967d"
      },
      "outputs": [
        {
          "data": {
            "text/html": [
              "<div>\n",
              "<style scoped>\n",
              "    .dataframe tbody tr th:only-of-type {\n",
              "        vertical-align: middle;\n",
              "    }\n",
              "\n",
              "    .dataframe tbody tr th {\n",
              "        vertical-align: top;\n",
              "    }\n",
              "\n",
              "    .dataframe thead th {\n",
              "        text-align: right;\n",
              "    }\n",
              "</style>\n",
              "<table border=\"1\" class=\"dataframe\">\n",
              "  <thead>\n",
              "    <tr style=\"text-align: right;\">\n",
              "      <th></th>\n",
              "      <th>date</th>\n",
              "      <th>position</th>\n",
              "      <th>job_function</th>\n",
              "      <th>salary_range</th>\n",
              "    </tr>\n",
              "  </thead>\n",
              "  <tbody>\n",
              "    <tr>\n",
              "      <th>0</th>\n",
              "      <td>3 weeks ago</td>\n",
              "      <td>Early Years Teacher</td>\n",
              "      <td>Job Function\\n: Research, Teaching &amp; Training</td>\n",
              "      <td>Less than 75,000</td>\n",
              "    </tr>\n",
              "    <tr>\n",
              "      <th>1</th>\n",
              "      <td>Today</td>\n",
              "      <td>Administrative Staff</td>\n",
              "      <td>Job Function\\n: Admin &amp; Office</td>\n",
              "      <td>Less than 75,000</td>\n",
              "    </tr>\n",
              "    <tr>\n",
              "      <th>2</th>\n",
              "      <td>Today</td>\n",
              "      <td>Direct Sales Agent</td>\n",
              "      <td>Job Function\\n: Sales</td>\n",
              "      <td>Less than 75,000</td>\n",
              "    </tr>\n",
              "    <tr>\n",
              "      <th>3</th>\n",
              "      <td>Today</td>\n",
              "      <td>Marketing Officer</td>\n",
              "      <td>Job Function\\n: Marketing &amp; Communications</td>\n",
              "      <td>Less than 75,000</td>\n",
              "    </tr>\n",
              "    <tr>\n",
              "      <th>4</th>\n",
              "      <td>Today</td>\n",
              "      <td>Direct Sales Executive</td>\n",
              "      <td>Job Function\\n: Sales</td>\n",
              "      <td>75,000 - 150,000</td>\n",
              "    </tr>\n",
              "    <tr>\n",
              "      <th>5</th>\n",
              "      <td>Today</td>\n",
              "      <td>Chat Operator (Work from home)</td>\n",
              "      <td>Job Function\\n: Customer Service &amp; Support</td>\n",
              "      <td>150,000 - 250,000</td>\n",
              "    </tr>\n",
              "    <tr>\n",
              "      <th>6</th>\n",
              "      <td>4 days ago</td>\n",
              "      <td>Marketer</td>\n",
              "      <td>Job Function\\n: Marketing &amp; Communications</td>\n",
              "      <td>Less than 75,000</td>\n",
              "    </tr>\n",
              "    <tr>\n",
              "      <th>7</th>\n",
              "      <td>4 days ago</td>\n",
              "      <td>Driver</td>\n",
              "      <td>Job Function\\n: Driver &amp; Transport Services</td>\n",
              "      <td>Less than 75,000</td>\n",
              "    </tr>\n",
              "    <tr>\n",
              "      <th>8</th>\n",
              "      <td>4 days ago</td>\n",
              "      <td>Security Personnel</td>\n",
              "      <td>Job Function\\n: Health &amp; Safety</td>\n",
              "      <td>Less than 75,000</td>\n",
              "    </tr>\n",
              "    <tr>\n",
              "      <th>9</th>\n",
              "      <td>4 days ago</td>\n",
              "      <td>Administrative Assistant</td>\n",
              "      <td>Job Function\\n: Admin &amp; Office</td>\n",
              "      <td>Less than 75,000</td>\n",
              "    </tr>\n",
              "  </tbody>\n",
              "</table>\n",
              "</div>"
            ],
            "text/plain": [
              "          date                        position  \\\n",
              "0  3 weeks ago             Early Years Teacher   \n",
              "1        Today            Administrative Staff   \n",
              "2        Today              Direct Sales Agent   \n",
              "3        Today               Marketing Officer   \n",
              "4        Today          Direct Sales Executive   \n",
              "5        Today  Chat Operator (Work from home)   \n",
              "6   4 days ago                        Marketer   \n",
              "7   4 days ago                          Driver   \n",
              "8   4 days ago              Security Personnel   \n",
              "9   4 days ago        Administrative Assistant   \n",
              "\n",
              "                                    job_function       salary_range  \n",
              "0  Job Function\\n: Research, Teaching & Training   Less than 75,000  \n",
              "1                 Job Function\\n: Admin & Office   Less than 75,000  \n",
              "2                          Job Function\\n: Sales   Less than 75,000  \n",
              "3     Job Function\\n: Marketing & Communications   Less than 75,000  \n",
              "4                          Job Function\\n: Sales   75,000 - 150,000  \n",
              "5     Job Function\\n: Customer Service & Support  150,000 - 250,000  \n",
              "6     Job Function\\n: Marketing & Communications   Less than 75,000  \n",
              "7    Job Function\\n: Driver & Transport Services   Less than 75,000  \n",
              "8                Job Function\\n: Health & Safety   Less than 75,000  \n",
              "9                 Job Function\\n: Admin & Office   Less than 75,000  "
            ]
          },
          "execution_count": 4,
          "metadata": {},
          "output_type": "execute_result"
        }
      ],
      "source": [
        "# create a pandas dataframe from the extracted data and display it\n",
        "df = pd.DataFrame({'date': Date_posted,\n",
        "                   'position': Position,\n",
        "                   'job_function': Job_function,\n",
        "                   'salary_range': Salary_range})\n",
        "\n",
        "df.head(10)"
      ]
    },
    {
      "cell_type": "code",
      "execution_count": null,
      "id": "a597c09a",
      "metadata": {
        "id": "a597c09a",
        "outputId": "7a8cdd99-f25a-4d9a-e388-cbf0957f42ac"
      },
      "outputs": [
        {
          "data": {
            "text/plain": [
              "['Early Years Teacher',\n",
              " 'Administrative Staff',\n",
              " 'Direct Sales Agent',\n",
              " 'Marketing Officer',\n",
              " 'Direct Sales Executive',\n",
              " 'Chat Operator (Work from home)',\n",
              " 'Marketer',\n",
              " 'Driver',\n",
              " 'Security Personnel',\n",
              " 'Administrative Assistant',\n",
              " 'Store keeper',\n",
              " 'Office Assistant',\n",
              " 'Human Resources Personnel',\n",
              " 'Marketer',\n",
              " 'Marketer',\n",
              " 'Software Engineering Trainee',\n",
              " 'Office Assistant']"
            ]
          },
          "execution_count": 5,
          "metadata": {},
          "output_type": "execute_result"
        }
      ],
      "source": []
    },
    {
      "cell_type": "code",
      "execution_count": null,
      "id": "43ea2cc9",
      "metadata": {
        "id": "43ea2cc9"
      },
      "outputs": [],
      "source": []
    }
  ],
  "metadata": {
    "kernelspec": {
      "display_name": "Python 3 (ipykernel)",
      "language": "python",
      "name": "python3"
    },
    "language_info": {
      "codemirror_mode": {
        "name": "ipython",
        "version": 3
      },
      "file_extension": ".py",
      "mimetype": "text/x-python",
      "name": "python",
      "nbconvert_exporter": "python",
      "pygments_lexer": "ipython3",
      "version": "3.11.5"
    },
    "colab": {
      "provenance": [],
      "include_colab_link": true
    }
  },
  "nbformat": 4,
  "nbformat_minor": 5
}